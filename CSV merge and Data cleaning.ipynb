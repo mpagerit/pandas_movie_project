{
 "cells": [
  {
   "cell_type": "markdown",
   "metadata": {},
   "source": [
    "# <h1><center>Show me the money!</center></h1>\n",
    "\n",
    "![title](img/cuba_sho_me.png)"
   ]
  },
  {
   "cell_type": "markdown",
   "metadata": {},
   "source": [
    "## Team members\n",
    "* Jason O'Day\n",
    "* John Clark\n",
    "* Marianne Pagerit\n",
    "* Nicole Fejfar\n",
    "_______________________________________________________________________________________________________________________________\n",
    "## Project Description\n",
    "\n",
    "* Using the Open Movie Database API, we analyzed the top box office and academy award winning movies over the last 40 years (1980-2019) to determine the impact of release date and genre on a movie’s commercial and critical success.\n",
    "_______________________________________________________________________________________________________________________________\n",
    "## Hypotheses\n",
    "* Movies released in the summer months (May through July) make more money than movies released at other times of the year. \n",
    "* The majority of Oscar winning movies are released during \"Oscar Season\" (November and December).\n",
    "* Bonus Analysis: Review the impact of genre on box office sales and awards. We suspect that action movies make the most money and dramas win more awards.\n",
    "_______________________________________________________________________________________________________________________________\n",
    "## Data Acquisition\n",
    "* The Numbers Website: Used to compile a dataset of the top 40 movies by domestic box office (adjusted for inflation) over the past 40 years.\n",
    "* OMDB API: Used to determine the oscar wins, ratings and genres of our movie dataset.\n",
    "_______________________________________________________________________________________________________________________________\n",
    "## Limitations of our dataset\n",
    "* Since we only pulled the top 40 movies per year, not all Oscar winners are included in our dataset.\n",
    "* Not all data was avaialable for all movies that we ran through the OMDB API\n",
    "* We made an assumption that movies that didn't have awards information didn't win awards\n",
    "_______________________________________________________________________________________________________________________________\n",
    "<br>\n",
    "\n",
    "## Win a completely fictitious Netflix subscription!\n",
    "* Guess the top 5 box office movies \n",
    "* Guess the 3 movies that have won the most Academy Awards ever (tying for 11). *Hint: One was before 1980.* <br>\n",
    "**No Googling allowed!**\n",
    "_______________________________________________________________________________________________________________________________"
   ]
  },
  {
   "cell_type": "markdown",
   "metadata": {},
   "source": [
    "## Data Cleaning"
   ]
  },
  {
   "cell_type": "code",
   "execution_count": null,
   "metadata": {},
   "outputs": [],
   "source": [
    "# Nicole's code starts here "
   ]
  },
  {
   "cell_type": "code",
   "execution_count": null,
   "metadata": {},
   "outputs": [],
   "source": [
    "# Import Dependencies\n",
    "import pandas as pd\n",
    "import numpy as np\n",
    "# from config import OMB_api_key\n",
    "import requests\n",
    "import json\n",
    "import re\n",
    "from pprint import pprint\n",
    "import warnings\n",
    "warnings.filterwarnings('ignore')"
   ]
  },
  {
   "cell_type": "code",
   "execution_count": null,
   "metadata": {},
   "outputs": [],
   "source": [
    "# Compiled the top 40 movies by box office sales for past 40 years\n",
    "# Importing \"The Numbers\" data\n",
    "numbers_df = pd.read_csv('DataFiles/TheNumbers_Original.csv')\n",
    "print(numbers_df.shape)\n",
    "numbers_df.head(1)"
   ]
  },
  {
   "cell_type": "code",
   "execution_count": null,
   "metadata": {},
   "outputs": [],
   "source": [
    "# Created a month released column & added it to the dataframe\n",
    "numbers_df['Domestic Release Date'] = numbers_df['Domestic Release Date'].astype('datetime64[ns]')\n",
    "numbers_df['Worldwide Release Date'] = numbers_df['Worldwide Release Date'].astype('datetime64[ns]')\n",
    "month = pd.DatetimeIndex(numbers_df['Domestic Release Date']).month\n",
    "numbers_df.insert(3, 'Month Released (Domestic)', month)\n",
    "numbers_df.head(1)"
   ]
  },
  {
   "cell_type": "code",
   "execution_count": null,
   "metadata": {},
   "outputs": [],
   "source": [
    "# Convert columns 11 + to integer\n",
    "numbers_df[numbers_df.columns[11:]] = numbers_df[numbers_df.columns[11:]].apply\\\n",
    "(lambda x: x.str.replace('$','')).apply(lambda x: x.str.replace(',','')).astype(np.int64)\n",
    "numbers_df.head(1)"
   ]
  },
  {
   "cell_type": "code",
   "execution_count": null,
   "metadata": {},
   "outputs": [],
   "source": [
    "# Adding available oscar count per year.\n",
    "numbers_df['Total Oscars Awarded in Year'] = ''\n",
    "for index, row in numbers_df.iterrows():\n",
    "    year = row['Year Released (Domestic)']\n",
    "    if year == 1980:\n",
    "        numbers_df.loc[index, 'Total Oscars Awarded in Year'] = 22\n",
    "    elif year in range(1981,1995) or year == 1999:\n",
    "        numbers_df.loc[index, 'Total Oscars Awarded in Year'] = 23\n",
    "    elif year in range(2001,2020):\n",
    "        numbers_df.loc[index, 'Total Oscars Awarded in Year'] = 25\n",
    "    else:\n",
    "        numbers_df.loc[index, 'Total Oscars Awarded in Year'] = 24\n",
    "numbers_df.head(1)"
   ]
  },
  {
   "cell_type": "code",
   "execution_count": null,
   "metadata": {
    "scrolled": true
   },
   "outputs": [],
   "source": [
    "# Limit dataset to 40 movies per year, part 1 - Sort dataframe by release year & revenue\n",
    "numbers_df = numbers_df.sort_values(['Year Released (Domestic)', 'Infl. Adj. Dom. Box Office'],\n",
    "                                    ascending = [True, False])\n",
    "numbers_df = numbers_df.reset_index(drop = True)"
   ]
  },
  {
   "cell_type": "code",
   "execution_count": null,
   "metadata": {},
   "outputs": [],
   "source": [
    "# Limit dataset to 40 movies per year, part 2 - Create an 'index' based on release year & sales\n",
    "numbers_df['Year Index'] = ''\n",
    "year_compare = 1980\n",
    "count = 0\n",
    "for index, row in numbers_df.iterrows():\n",
    "    year = row['Year Released (Domestic)']\n",
    "    if year == year_compare:\n",
    "        count += 1\n",
    "        numbers_df.loc[index, 'Year Index'] = count\n",
    "    else:\n",
    "        count = 1\n",
    "        numbers_df.loc[index, 'Year Index'] = count\n",
    "        year_compare += 1\n",
    "print(numbers_df.shape)\n",
    "numbers_df[46:51]"
   ]
  },
  {
   "cell_type": "code",
   "execution_count": null,
   "metadata": {
    "scrolled": true
   },
   "outputs": [],
   "source": [
    "# Limit dataset to 40 movies per year, part 3 - Drop all movies w/'index' > 40\n",
    "top_40_df = numbers_df.loc[(numbers_df['Year Index'] <=40), ['Title', 'Domestic Release Date',\n",
    "                                                             'Year Released (Domestic)',\n",
    "                                                             'Month Released (Domestic)',\n",
    "                                                             'Infl. Adj. Dom. Box Office',\n",
    "                                                             'Domestic Box Office',\n",
    "                                                             'Genre', 'Theatrical Distributor',\n",
    "                                                             'Total Oscars Awarded in Year']]\n",
    "top_40_df = top_40_df.sort_values('Infl. Adj. Dom. Box Office', ascending = False)\n",
    "top_40_df = top_40_df.reset_index(drop = True)\n",
    "top_40_df.to_csv('DataFiles/TheNumbers_Cleaned.csv')\n",
    "print(top_40_df.shape)"
   ]
  },
  {
   "cell_type": "code",
   "execution_count": null,
   "metadata": {},
   "outputs": [],
   "source": [
    "# After the first API run, we discovered that the movie title names did not always match between both data sets\n",
    "# Attempted to resolve some of the issues by replacing offending characters (apostrophes, colons, \"Ep. xxx:\")\n",
    "# Turns out fixing some, broke others :-(\n",
    "\n",
    "# Creating new 'Query Title' column\n",
    "top_40_df.insert(1, 'Query_Title', top_40_df['Title'])\n",
    "\n",
    "# Replacing characters in new column\n",
    "top_40_df[top_40_df.columns[1:2]] = top_40_df[top_40_df.columns[1:2]].apply\\\n",
    "(lambda x: x.str.replace(\":\",'')).apply(lambda x: x.str.replace(\"Ep.\",\"Episode\"))\n",
    "top_40_df[144:146]"
   ]
  },
  {
   "cell_type": "markdown",
   "metadata": {},
   "source": [
    "## API Requests"
   ]
  },
  {
   "cell_type": "code",
   "execution_count": null,
   "metadata": {},
   "outputs": [],
   "source": [
    "# Created dataframe to hold API request data\n",
    "omdb_successes_df = top_40_df.copy()\n",
    "omdb_successes_df['Awards'] = ''\n",
    "omdb_successes_df['Metascore'] = ''\n",
    "omdb_successes_df['IMDB'] = ''\n",
    "omdb_successes_df['Rotten Tomatoes'] = ''\n",
    "omdb_successes_df['Rated'] = ''\n",
    "omdb_successes_df['Director'] = ''\n",
    "omdb_successes_df['Runtime'] = ''\n",
    "omdb_successes_df['Country'] = ''\n",
    "omdb_successes_df.tail(1)"
   ]
  },
  {
   "cell_type": "code",
   "execution_count": null,
   "metadata": {},
   "outputs": [],
   "source": [
    "# # Initial API request, dropping unsuccessful calls from dataframe\n",
    "\n",
    "# params = {\"type\": \"movie\", \"apikey\": OMB_api_key}\n",
    "# url = \"http://www.omdbapi.com/?t=&y=\"\n",
    "# count = 0\n",
    "# for index, row in omdb_successes_df.iterrows():\n",
    "#     params[\"t\"] = row[\"Query_Title\"]\n",
    "#     params[\"y\"] = row[\"Year Released (Domestic)\"]\n",
    "#     response = requests.get(url, params).json()\n",
    "#     if response['Response'] == 'True':\n",
    "#         try:\n",
    "#             omdb_successes_df.loc[index, 'Awards'] = response['Awards']\n",
    "#             omdb_successes_df.loc[index, 'Metascore'] = response['Metascore']\n",
    "#             omdb_successes_df.loc[index, 'IMDB'] = response['imdbRating']\n",
    "#             omdb_successes_df.loc[index, 'Rated'] = response['Rated']\n",
    "#             omdb_successes_df.loc[index, 'Director'] = response['Director']\n",
    "#             omdb_successes_df.loc[index, 'Runtime'] = response['Runtime']\n",
    "#             omdb_successes_df.loc[index, 'Country'] = response['Country']\n",
    "#             omdb_successes_df.loc[index, 'Rotten Tomatoes'] = response['Ratings'][1]['Value']\n",
    "#         except:\n",
    "#             omdb_successes_df = omdb_successes_df.drop(count)\n",
    "#             print(f'{row.Query_Title.upper()} (row {count}) has missing data')\n",
    "#     else:\n",
    "#         print(f'{row.Query_Title.upper()} (row {count}) was not found')\n",
    "#         omdb_successes_df = omdb_successes_df.drop(count)\n",
    "#     count += 1"
   ]
  },
  {
   "cell_type": "markdown",
   "metadata": {},
   "source": [
    "<h2><center>Still 83 API failures! The data manipulation continues...</center></h2>"
   ]
  },
  {
   "cell_type": "markdown",
   "metadata": {},
   "source": [
    "![title](img/show_me.png)"
   ]
  },
  {
   "cell_type": "code",
   "execution_count": null,
   "metadata": {},
   "outputs": [],
   "source": [
    "# # Writing successes to file\n",
    "# omdb_successes_df.to_csv('DataFiles/OMDB_Successes.csv')"
   ]
  },
  {
   "cell_type": "code",
   "execution_count": null,
   "metadata": {},
   "outputs": [],
   "source": [
    "# Loading in Successes\n",
    "omdb_successes_df = pd.read_csv('DataFiles/OMDB_Successes.csv')\n",
    "print(omdb_successes_df.shape)\n",
    "omdb_successes_df.tail(1)"
   ]
  },
  {
   "cell_type": "code",
   "execution_count": null,
   "metadata": {},
   "outputs": [],
   "source": [
    "# Create dataframe of the failed API calls\n",
    "omdb_failures_df = top_40_df[top_40_df['Title'].isin(omdb_successes_df['Title'])==False]\n",
    "omdb_failures_df = omdb_failures_df.reset_index()\n",
    "print(omdb_failures_df.shape)"
   ]
  },
  {
   "cell_type": "code",
   "execution_count": null,
   "metadata": {},
   "outputs": [],
   "source": [
    "# Add necessary columns\n",
    "omdb_failures_df = omdb_failures_df.copy()\n",
    "omdb_failures_df['Awards'] = ''\n",
    "omdb_failures_df['Metascore'] = ''\n",
    "omdb_failures_df['IMDB'] = ''\n",
    "omdb_failures_df['Rotten Tomatoes'] = ''\n",
    "omdb_failures_df['Rated'] = ''\n",
    "omdb_failures_df['Director'] = ''\n",
    "omdb_failures_df['Runtime'] = ''\n",
    "omdb_failures_df['Country'] = ''"
   ]
  },
  {
   "cell_type": "code",
   "execution_count": null,
   "metadata": {},
   "outputs": [],
   "source": [
    "# Overwrite movie titles of failed calls & re-run API until we captured as many as possible\n",
    "omdb_failures_df.at[0,'Query_Title'] = \"DEAD MAN'S\"\n",
    "omdb_failures_df.at[1,'Query_Title'] = 'THE RISE OF SKYWALKER'\n",
    "omdb_failures_df.at[2,'Query_Title'] = 'THE CURSE OF'\n",
    "omdb_failures_df.at[3,'Query_Title'] = 'THE CHRONICLES OF NARNIA'\n",
    "omdb_failures_df.at[4,\"Query_Title\"] = \"PIRATES OF THE CARIBBEAN AT WORLD'S END\"\n",
    "omdb_failures_df.at[5,'Query_Title'] = 'HARRY POTTER AND THE ORDER OF THE PHOENIX'\n",
    "omdb_failures_df.at[6,'Query_Title'] = 'THREE MEN AND A BABY'\n",
    "omdb_failures_df.at[7,'Query_Title'] = 'MISSION IMPOSSIBLE II'\n",
    "omdb_failures_df.at[8,'Query_Title'] = '9 To 5'\n",
    "omdb_failures_df.at[9,'Query_Title'] = 'X-MEN'\n",
    "omdb_failures_df.at[10,'Query_Title'] = 'MEN IN BLACK'\n",
    "omdb_failures_df.at[11,'Query_Title'] = 'THE HOBBIT'\n",
    "omdb_failures_df.at[12,'Query_Title'] = 'DUMB AND DUMBER'\n",
    "omdb_failures_df.at[13,'Query_Title'] = 'THE GRINCH'\n",
    "omdb_failures_df.at[14,'Query_Title'] = 'FAST & FURIOUS 6'\n",
    "omdb_failures_df.at[15,'Query_Title'] = 'MR & MRS SMITH'\n",
    "omdb_failures_df.at[16,'Query_Title'] = 'THE LORAX'\n",
    "omdb_failures_df.at[17,'Query_Title'] = 'CROCODILE DUNDEE II'\n",
    "omdb_failures_df.at[18,'Query_Title'] = 'INTERVIEW WITH THE VAMPIRE'\n",
    "omdb_failures_df.at[19,'Query_Title'] = 'NIGHT AT THE MUSEUM BATTLE'\n",
    "omdb_failures_df.at[20,'Query_Title'] = 'SPIDER-MAN INTO THE SPIDER-VERSE'\n",
    "omdb_failures_df.at[21,'Query_Title'] = 'tt0089050'\n",
    "omdb_failures_df.at[22,'Query_Title'] = 'DEAD MEN TELL NO TALES'\n",
    "omdb_failures_df.at[23,'Query_Title'] = 'RISE OF THE SILVER SURFER'\n",
    "omdb_failures_df.at[24,'Query_Title'] = 'FROM THE FILES OF POLICE SQUAD'\n",
    "omdb_failures_df.at[25,'Query_Title'] = \"A SERIES OF UNFORTUNATE EVENTS\"\n",
    "omdb_failures_df.at[26,'Query_Title'] = 'DODGEBALL'\n",
    "omdb_failures_df.at[27,'Query_Title'] = 'A CHRISTMAS CAROL'\n",
    "omdb_failures_df.at[28,'Query_Title'] = 'X-FILES'\n",
    "omdb_failures_df.at[29,'Query_Title'] = 'FANTASTIC BEASTS'\n",
    "omdb_failures_df.at[30,'Query_Title'] = 'I NOW PRONOUNCE YOU CHUCK & LARRY'\n",
    "omdb_failures_df.at[31,'Query_Title'] = 'THREE MEN AND A LITTLE LADY'\n",
    "omdb_failures_df.at[32,'Query_Title'] = 'tt0087355'\n",
    "omdb_failures_df.at[33,'Query_Title'] = \"CHEECH AND CHONG'S NEXT MOVIE\"\n",
    "omdb_failures_df.at[34,'Query_Title'] = 'INSURGENT'\n",
    "omdb_failures_df.at[35,'Query_Title'] = 'LEGALLY BLONDE 2'\n",
    "omdb_failures_df.at[36,'Query_Title'] = 'tt0113676'\n",
    "omdb_failures_df.at[37,'Query_Title'] = 'ISLAND OF LOST DREAMS'\n",
    "omdb_failures_df.at[38,'Query_Title'] = 'BLADE II'\n",
    "omdb_failures_df.at[39,'Query_Title'] = 'ARTIFICIAL INTELLIGENCE'\n",
    "omdb_failures_df.at[40,'Query_Title'] = 'THE HANGOVER PART III'\n",
    "omdb_failures_df.at[41,'Query_Title'] = 'SPONGEBOB SQUAREPANTS MOVIE'\n",
    "omdb_failures_df.at[42,'Query_Title'] = 'GREYSTOKE'\n",
    "omdb_failures_df.at[43,'Query_Title'] = 'MOUSEHUNT'\n",
    "omdb_failures_df.at[44,'Query_Title'] = 'NICE DREAMS'\n",
    "omdb_failures_df.at[45,'Query_Title'] = 'tt0098484'\n",
    "omdb_failures_df.at[46,'Query_Title'] = 'MAMMA MIA! HERE WE GO AGAIN'\n",
    "omdb_failures_df.at[47,'Query_Title'] = 'EPIC'\n",
    "omdb_failures_df.at[48,'Query_Title'] = 'FANTASIA 2000'\n",
    "omdb_failures_df.at[49,'Query_Title'] = 'tt0370263'\n",
    "omdb_failures_df.at[50,'Query_Title'] = 'FORD V FERRARI'\n",
    "omdb_failures_df.at[51,'Query_Title'] = 'COWBOYS & ALIENS'\n",
    "omdb_failures_df.at[52,'Query_Title'] = 'HIGH SCHOOL MUSICAL 3'\n",
    "omdb_failures_df.at[53,'Query_Title'] = 'GNOMEO & JULIET'\n",
    "omdb_failures_df.at[54,'Query_Title'] = 'FRIDAY THE 13TH PART III'\n",
    "omdb_failures_df.at[55,'Query_Title'] = 'GARFIELD'\n",
    "omdb_failures_df.at[56,'Query_Title'] = \"MARCH OF THE PENGUINS\"\n",
    "omdb_failures_df.at[57,'Query_Title'] = 'A NIGHTMARE ON ELM STREET 4 THE DREAM MASTER'\n",
    "omdb_failures_df.at[58,'Query_Title'] = 'DIVINE SECRETS OF THE YA-YA SISTERHOOD'\n",
    "omdb_failures_df.at[59,'Query_Title'] = 'THE CONJURING 2'\n",
    "omdb_failures_df.at[60,'Query_Title'] = 'AUSTIN POWERS INTERNATIONAL MAN OF MYSTERY'\n",
    "omdb_failures_df.at[61,'Query_Title'] = 'Halloween H20: 20 Years Later'\n",
    "omdb_failures_df.at[62,'Query_Title'] = 'KILL BILL Vol. 1'\n",
    "omdb_failures_df.at[63,'Query_Title'] = 'PRINCE OF PERSIA: THE SANDS OF TIME'\n",
    "omdb_failures_df.at[64,'Query_Title'] = 'A NIGHTMARE ON ELM STREET 3'\n",
    "omdb_failures_df.at[65,'Query_Title'] = 'PERCY JACKSON & THE OLYMPIANS'\n",
    "omdb_failures_df.at[66,'Query_Title'] = 'BARNYARD'\n",
    "omdb_failures_df.at[67,'Query_Title'] = 'PLANES'\n",
    "omdb_failures_df.at[68,'Query_Title'] = 'CITY SLICKERS II'\n",
    "omdb_failures_df.at[69,'Query_Title'] = \"DON'T BREATHE\"\n",
    "omdb_failures_df.at[70,'Query_Title'] = 'JOHN WICK CHAPTER 2'\n",
    "omdb_failures_df.at[71,'Query_Title'] = 'FRIDAY THE 13TH: THE FINAL CHAPTER'\n",
    "omdb_failures_df.at[72,'Query_Title'] = 'tt0080919'\n",
    "omdb_failures_df.at[73,'Query_Title'] = \"CAN'T BUY ME LOVE\"\n",
    "omdb_failures_df.at[74,'Query_Title'] = \"A MADEA FAMILY FUNERAL\"\n",
    "omdb_failures_df.at[75,'Query_Title'] = 'tt0086352'\n",
    "omdb_failures_df.at[76,'Query_Title'] = 'QUEST FOR FIRE'\n",
    "omdb_failures_df.at[77,'Query_Title'] = 'tt0083628'\n",
    "omdb_failures_df.at[78,'Query_Title'] = 'tt0081760'\n",
    "omdb_failures_df.at[79,'Query_Title'] = 'tt0088885'\n",
    "omdb_failures_df.at[80,'Query_Title'] = 'tt0081439'\n",
    "omdb_failures_df.at[81,'Query_Title'] = 'FRIDAY THE 13TH A NEW BEGINNING'\n",
    "omdb_failures_df.at[82,'Query_Title'] = \"A NIGHTMARE ON ELM STREET 2 FREDDY'S REVENGE\""
   ]
  },
  {
   "cell_type": "code",
   "execution_count": null,
   "metadata": {},
   "outputs": [],
   "source": [
    "# copying query titles to new df for eventual 3rd run\n",
    "omdb_failures2_df = omdb_failures_df.copy()"
   ]
  },
  {
   "cell_type": "code",
   "execution_count": null,
   "metadata": {},
   "outputs": [],
   "source": [
    "# # API calls of failures with new title overrides, dropping successful calls from dataframe\n",
    "\n",
    "# params = {\"type\": \"movie\", \"apikey\": OMB_api_key}\n",
    "# url = \"http://www.omdbapi.com/?t=&y=\"\n",
    "# count = 0\n",
    "# for index, row in omdb_failures_df.iterrows():\n",
    "#     params[\"t\"] = row[\"Query_Title\"]\n",
    "#     params[\"y\"] = row[\"Year Released (Domestic)\"]\n",
    "#     response = requests.get(url, params).json()\n",
    "#     if response['Response'] == 'True':\n",
    "#         omdb_failures2_df = omdb_failures2_df.drop(count)\n",
    "#         try:\n",
    "#             omdb_failures_df.loc[index, 'Awards'] = response['Awards']\n",
    "#             omdb_failures_df.loc[index, 'Metascore'] = response['Metascore']\n",
    "#             omdb_failures_df.loc[index, 'IMDB'] = response['imdbRating']\n",
    "#             omdb_failures_df.loc[index, 'Rated'] = response['Rated']\n",
    "#             omdb_failures_df.loc[index, 'Director'] = response['Director']\n",
    "#             omdb_failures_df.loc[index, 'Runtime'] = response['Runtime']\n",
    "#             omdb_failures_df.loc[index, 'Country'] = response['Country']\n",
    "#             omdb_failures_df.loc[index, 'Rotten Tomatoes'] = response['Ratings'][1]['Value']\n",
    "#         except:\n",
    "#             omdb_failures_df = omdb_failures_df.drop(count)\n",
    "#             print(f'{row.Query_Title} has missing data')\n",
    "#     else:\n",
    "#         print(f'{row.Query_Title} was not found')\n",
    "#         omdb_failures_df = omdb_failures_df.drop(count)\n",
    "#     count += 1"
   ]
  },
  {
   "cell_type": "code",
   "execution_count": null,
   "metadata": {},
   "outputs": [],
   "source": [
    "# # Writing failures to file\n",
    "# omdb_failures_df.to_csv('DataFiles/OMDB_Failures.csv')"
   ]
  },
  {
   "cell_type": "code",
   "execution_count": null,
   "metadata": {},
   "outputs": [],
   "source": [
    "# Loading in failures\n",
    "omdb_failures_df = pd.read_csv('DataFiles/OMDB_Failures.csv')"
   ]
  },
  {
   "cell_type": "code",
   "execution_count": null,
   "metadata": {},
   "outputs": [],
   "source": [
    "# Resetting index for next API run\n",
    "omdb_failures2_df = omdb_failures2_df.reset_index(drop=True)"
   ]
  },
  {
   "cell_type": "code",
   "execution_count": null,
   "metadata": {},
   "outputs": [],
   "source": [
    "# Running second set of failures on IMDB id since we couldn't get a match on title\n",
    "\n",
    "# for index, row in omdb_failures2_df.iterrows():\n",
    "#     imdb = row[\"Query_Title\"]\n",
    "#     url = f'http://www.omdbapi.com/?i={imdb}&apikey={OMB_api_key}'\n",
    "#     response = requests.get(url).json()\n",
    "#     if response['Response'] == 'True':\n",
    "#         try:\n",
    "#             omdb_failures2_df.loc[index, 'Awards'] = response['Awards']\n",
    "#             omdb_failures2_df.loc[index, 'Metascore'] = response['Metascore']\n",
    "#             omdb_failures2_df.loc[index, 'IMDB'] = response['imdbRating']\n",
    "#             omdb_failures2_df.loc[index, 'Rated'] = response['Rated']\n",
    "#             omdb_failures2_df.loc[index, 'Director'] = response['Director']\n",
    "#             omdb_failures2_df.loc[index, 'Runtime'] = response['Runtime']\n",
    "#             omdb_failures2_df.loc[index, 'Country'] = response['Country']\n",
    "#             omdb_failures2_df.loc[index, 'Rotten Tomatoes'] = response['Ratings'][1]['Value']\n",
    "#         except:\n",
    "#             print(f'{row.Query_Title} has missing data')\n",
    "#     else:\n",
    "#         print(f'{row.Query_Title} was not found')"
   ]
  },
  {
   "cell_type": "code",
   "execution_count": null,
   "metadata": {},
   "outputs": [],
   "source": [
    "# # Writing failures to file\n",
    "# omdb_failures2_df.to_csv('DataFiles/OMDB_Failures2.csv')"
   ]
  },
  {
   "cell_type": "code",
   "execution_count": null,
   "metadata": {},
   "outputs": [],
   "source": [
    "# Loading in next set of failures\n",
    "omdb_failures2_df = pd.read_csv('DataFiles/OMDB_Failures2.csv')\n",
    "print(omdb_failures2_df.shape)"
   ]
  },
  {
   "cell_type": "code",
   "execution_count": null,
   "metadata": {},
   "outputs": [],
   "source": [
    "# Concatenating successes & failures dataframes\n",
    "frames = [omdb_successes_df, omdb_failures_df, omdb_failures2_df]\n",
    "OMDB_Final_df = pd.concat(frames)\n",
    "print(OMDB_Final_df.shape)\n",
    "OMDB_Final_df.tail(2)"
   ]
  },
  {
   "cell_type": "code",
   "execution_count": null,
   "metadata": {},
   "outputs": [],
   "source": [
    "# Save to csv\n",
    "OMDB_Final_df.to_csv('DataFiles/OMDB_Final.csv')"
   ]
  },
  {
   "cell_type": "code",
   "execution_count": null,
   "metadata": {},
   "outputs": [],
   "source": [
    "# Nicole's code ends here "
   ]
  },
  {
   "cell_type": "code",
   "execution_count": null,
   "metadata": {},
   "outputs": [],
   "source": [
    "# marianne's code starts here"
   ]
  },
  {
   "cell_type": "code",
   "execution_count": null,
   "metadata": {},
   "outputs": [],
   "source": [
    "# In the awards column, the description of oscar winners begins with the word \"won\"\n",
    "# find oscar winners by finding the word 'won'\n",
    "OMDB_Final_df.loc[OMDB_Final_df['Awards'].str.contains('Won', regex=False) == True, 'Oscars Won'] = 'Yes'\n",
    "OMDB_Final_df.loc[OMDB_Final_df['Awards'].str.contains('Won', regex=False) == False, 'Oscars Won'] = 'No'\n",
    "\n",
    "print(OMDB_Final_df.shape)\n",
    "OMDB_Final_df.tail(2)"
   ]
  },
  {
   "cell_type": "code",
   "execution_count": null,
   "metadata": {},
   "outputs": [],
   "source": [
    "#filter down to movies that have won an oscar\n",
    "oscar_df = OMDB_Final_df.loc[OMDB_Final_df['Oscars Won'] == 'Yes']\n",
    "oscar_df.reset_index(drop=True, inplace=True)\n",
    "print(oscar_df.shape)\n",
    "oscar_df.tail(2)"
   ]
  },
  {
   "cell_type": "code",
   "execution_count": null,
   "metadata": {
    "scrolled": true
   },
   "outputs": [],
   "source": [
    "#pull the number of oscars won, save in new column\n",
    "for index, row in oscar_df.iterrows():\n",
    "#     string = \n",
    "    oscar_df.loc[index, \"Number Oscars Won\"] = re.findall('\\d+', oscar_df.loc[index, \"Awards\"])[0]\n",
    "\n",
    "oscar_df.tail(2)"
   ]
  },
  {
   "cell_type": "code",
   "execution_count": null,
   "metadata": {},
   "outputs": [],
   "source": [
    "#drop the Awards column from the oscar_df to avoid duplicating in the final dataframe\n",
    "oscar_df = oscar_df[['Title', 'Year Released (Domestic)', 'Number Oscars Won']]\n",
    "\n",
    "OMDB_Final_df = pd.merge(OMDB_Final_df, oscar_df, \n",
    "                      how=\"left\", on=['Title', 'Year Released (Domestic)'])"
   ]
  },
  {
   "cell_type": "code",
   "execution_count": null,
   "metadata": {},
   "outputs": [],
   "source": [
    "#replace all NaNs in the number oscars won column with zero\n",
    "OMDB_Final_df['Number Oscars Won'] = OMDB_Final_df['Number Oscars Won'].fillna(0)\n",
    "\n",
    "#replace all NaNs in the oscars won column with 'no'\n",
    "OMDB_Final_df['Oscars Won'] = OMDB_Final_df['Oscars Won'].fillna('No')"
   ]
  },
  {
   "cell_type": "code",
   "execution_count": null,
   "metadata": {},
   "outputs": [],
   "source": [
    "print(OMDB_Final_df.shape)\n",
    "OMDB_Final_df.tail(2)"
   ]
  },
  {
   "cell_type": "code",
   "execution_count": null,
   "metadata": {},
   "outputs": [],
   "source": [
    "# marianne's code ends here"
   ]
  },
  {
   "cell_type": "code",
   "execution_count": null,
   "metadata": {},
   "outputs": [],
   "source": [
    "# Nicole doing some final tidying"
   ]
  },
  {
   "cell_type": "markdown",
   "metadata": {},
   "source": [
    "### Then we discovered there were duplicates in our dataframe with incorrect data as movies were re-made during the 40 year period. So we ran through the API calls again, utilizing the year parameter.\n",
    "### Once complete, removed extraneous columns and saved our final dataframe to use in our analysis notebook"
   ]
  },
  {
   "cell_type": "code",
   "execution_count": null,
   "metadata": {},
   "outputs": [],
   "source": [
    "# Re-sort & Re-Index\n",
    "OMDB_Final_df = OMDB_Final_df.sort_values('Infl. Adj. Dom. Box Office', ascending = False)\n",
    "OMDB_Final_df = OMDB_Final_df.reset_index()"
   ]
  },
  {
   "cell_type": "code",
   "execution_count": null,
   "metadata": {},
   "outputs": [],
   "source": [
    "# Remove unnecessary columns\n",
    "FINAL_CLEANED_DF = OMDB_Final_df[['Title', 'Domestic Release Date',\n",
    "       'Year Released (Domestic)', 'Month Released (Domestic)',\n",
    "       'Infl. Adj. Dom. Box Office', 'Domestic Box Office', 'Genre', 'Oscars Won', 'Number Oscars Won',\n",
    "       'Total Oscars Awarded in Year', 'Awards',\n",
    "       'Metascore', 'IMDB', 'Rotten Tomatoes', 'Rated', 'Director', 'Runtime',\n",
    "       'Theatrical Distributor', 'Country']]"
   ]
  },
  {
   "cell_type": "code",
   "execution_count": null,
   "metadata": {},
   "outputs": [],
   "source": [
    "# Save to csv\n",
    "FINAL_CLEANED_DF.to_csv('DataFiles/FINAL_CLEANED_DF.csv', index=False)"
   ]
  },
  {
   "cell_type": "code",
   "execution_count": null,
   "metadata": {},
   "outputs": [],
   "source": [
    "print(FINAL_CLEANED_DF.shape)\n",
    "FINAL_CLEANED_DF.tail(2)"
   ]
  },
  {
   "cell_type": "code",
   "execution_count": null,
   "metadata": {},
   "outputs": [],
   "source": [
    "# Nicole's tidying complete"
   ]
  },
  {
   "cell_type": "markdown",
   "metadata": {},
   "source": [
    "<h2><center>Celebrate Goodtimes, C'mon!!</center></h2>"
   ]
  },
  {
   "cell_type": "markdown",
   "metadata": {},
   "source": [
    "![title](img/jm_kid.png)"
   ]
  }
 ],
 "metadata": {
  "kernelspec": {
   "display_name": "Python 3",
   "language": "python",
   "name": "python3"
  },
  "language_info": {
   "codemirror_mode": {
    "name": "ipython",
    "version": 3
   },
   "file_extension": ".py",
   "mimetype": "text/x-python",
   "name": "python",
   "nbconvert_exporter": "python",
   "pygments_lexer": "ipython3",
   "version": "3.7.6"
  }
 },
 "nbformat": 4,
 "nbformat_minor": 4
}
